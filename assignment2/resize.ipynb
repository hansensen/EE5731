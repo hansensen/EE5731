{
 "cells": [
  {
   "cell_type": "raw",
   "metadata": {},
   "source": [
    " >>> from PIL import Image\n",
    " # My image is a 200x374 jpeg that is 102kb large\n",
    " >>> foo = Image.open(\"path\\\\to\\\\image.jpg\")\n",
    " >>> foo.size\n",
    "  (200,374)\n",
    " # I downsize the image with an ANTIALIAS filter (gives the highest quality)\n",
    " >>> foo = foo.resize((160,300),Image.ANTIALIAS)\n",
    " >>> foo.save(\"path\\\\to\\\\save\\\\image_scaled.jpg\",quality=95)\n",
    " # The saved downsized image size is 24.8kb\n",
    " >>> foo.save(\"path\\\\to\\\\save\\\\image_scaled_opt.jpg\",optimize=True,quality=95)"
   ]
  },
  {
   "cell_type": "code",
   "execution_count": 1,
   "metadata": {},
   "outputs": [],
   "source": [
    "from PIL import Image"
   ]
  },
  {
   "cell_type": "code",
   "execution_count": 10,
   "metadata": {},
   "outputs": [],
   "source": [
    "foo1 = Image.open('./Part2/im1.png')\n",
    "foo2 = Image.open('./Part2/im2.png')"
   ]
  },
  {
   "cell_type": "code",
   "execution_count": 11,
   "metadata": {},
   "outputs": [
    {
     "data": {
      "text/plain": [
       "(450, 375)"
      ]
     },
     "execution_count": 11,
     "metadata": {},
     "output_type": "execute_result"
    }
   ],
   "source": [
    "foo2.size"
   ]
  },
  {
   "cell_type": "code",
   "execution_count": 6,
   "metadata": {},
   "outputs": [
    {
     "data": {
      "text/plain": [
       "90.0"
      ]
     },
     "execution_count": 6,
     "metadata": {},
     "output_type": "execute_result"
    }
   ],
   "source": [
    "450 / 5"
   ]
  },
  {
   "cell_type": "code",
   "execution_count": 7,
   "metadata": {},
   "outputs": [
    {
     "data": {
      "text/plain": [
       "75.0"
      ]
     },
     "execution_count": 7,
     "metadata": {},
     "output_type": "execute_result"
    }
   ],
   "source": [
    "375/5"
   ]
  },
  {
   "cell_type": "code",
   "execution_count": 8,
   "metadata": {},
   "outputs": [],
   "source": [
    "foo1 = foo1.resize((90,75),Image.ANTIALIAS)\n",
    "foo2 = foo2.resize((90,75),Image.ANTIALIAS)"
   ]
  },
  {
   "cell_type": "code",
   "execution_count": 9,
   "metadata": {},
   "outputs": [],
   "source": [
    "foo1.save('./Part2/im1_scaled.png',quality=95)\n",
    "foo2.save('./Part2/im2_scaled.png',quality=95)"
   ]
  },
  {
   "cell_type": "code",
   "execution_count": null,
   "metadata": {},
   "outputs": [],
   "source": []
  }
 ],
 "metadata": {
  "kernelspec": {
   "display_name": "Python 3",
   "language": "python",
   "name": "python3"
  },
  "language_info": {
   "codemirror_mode": {
    "name": "ipython",
    "version": 3
   },
   "file_extension": ".py",
   "mimetype": "text/x-python",
   "name": "python",
   "nbconvert_exporter": "python",
   "pygments_lexer": "ipython3",
   "version": "3.7.3"
  }
 },
 "nbformat": 4,
 "nbformat_minor": 4
}
